{
 "cells": [
  {
   "cell_type": "code",
   "execution_count": 2,
   "metadata": {},
   "outputs": [
    {
     "name": "stdout",
     "output_type": "stream",
     "text": [
      "Epoch 1/10\n"
     ]
    },
    {
     "name": "stderr",
     "output_type": "stream",
     "text": [
      "/Users/wentaozhang/anaconda3/envs/python310/lib/python3.10/site-packages/keras/src/layers/core/embedding.py:90: UserWarning: Argument `input_length` is deprecated. Just remove it.\n",
      "  warnings.warn(\n"
     ]
    },
    {
     "name": "stdout",
     "output_type": "stream",
     "text": [
      "\u001b[1m27/27\u001b[0m \u001b[32m━━━━━━━━━━━━━━━━━━━━\u001b[0m\u001b[37m\u001b[0m \u001b[1m7s\u001b[0m 221ms/step - accuracy: 0.5216 - loss: 2.8531 - val_accuracy: 0.6776 - val_loss: 1.8961\n",
      "Epoch 2/10\n",
      "\u001b[1m27/27\u001b[0m \u001b[32m━━━━━━━━━━━━━━━━━━━━\u001b[0m\u001b[37m\u001b[0m \u001b[1m7s\u001b[0m 243ms/step - accuracy: 0.6630 - loss: 1.6839 - val_accuracy: 0.5841 - val_loss: 1.2340\n",
      "Epoch 3/10\n",
      "\u001b[1m27/27\u001b[0m \u001b[32m━━━━━━━━━━━━━━━━━━━━\u001b[0m\u001b[37m\u001b[0m \u001b[1m5s\u001b[0m 198ms/step - accuracy: 0.7118 - loss: 1.1077 - val_accuracy: 0.6752 - val_loss: 0.8964\n",
      "Epoch 4/10\n",
      "\u001b[1m27/27\u001b[0m \u001b[32m━━━━━━━━━━━━━━━━━━━━\u001b[0m\u001b[37m\u001b[0m \u001b[1m5s\u001b[0m 200ms/step - accuracy: 0.7850 - loss: 0.7616 - val_accuracy: 0.7033 - val_loss: 0.7549\n",
      "Epoch 5/10\n",
      "\u001b[1m27/27\u001b[0m \u001b[32m━━━━━━━━━━━━━━━━━━━━\u001b[0m\u001b[37m\u001b[0m \u001b[1m6s\u001b[0m 221ms/step - accuracy: 0.8106 - loss: 0.6255 - val_accuracy: 0.6986 - val_loss: 0.6881\n",
      "Epoch 6/10\n",
      "\u001b[1m27/27\u001b[0m \u001b[32m━━━━━━━━━━━━━━━━━━━━\u001b[0m\u001b[37m\u001b[0m \u001b[1m6s\u001b[0m 224ms/step - accuracy: 0.8066 - loss: 0.5343 - val_accuracy: 0.7360 - val_loss: 0.6352\n",
      "Epoch 7/10\n",
      "\u001b[1m27/27\u001b[0m \u001b[32m━━━━━━━━━━━━━━━━━━━━\u001b[0m\u001b[37m\u001b[0m \u001b[1m6s\u001b[0m 221ms/step - accuracy: 0.8501 - loss: 0.4690 - val_accuracy: 0.7336 - val_loss: 0.6384\n",
      "Epoch 8/10\n",
      "\u001b[1m27/27\u001b[0m \u001b[32m━━━━━━━━━━━━━━━━━━━━\u001b[0m\u001b[37m\u001b[0m \u001b[1m5s\u001b[0m 181ms/step - accuracy: 0.8696 - loss: 0.4033 - val_accuracy: 0.7196 - val_loss: 0.6243\n",
      "Epoch 9/10\n",
      "\u001b[1m27/27\u001b[0m \u001b[32m━━━━━━━━━━━━━━━━━━━━\u001b[0m\u001b[37m\u001b[0m \u001b[1m6s\u001b[0m 231ms/step - accuracy: 0.8457 - loss: 0.4289 - val_accuracy: 0.7220 - val_loss: 0.6211\n",
      "Epoch 10/10\n",
      "\u001b[1m27/27\u001b[0m \u001b[32m━━━━━━━━━━━━━━━━━━━━\u001b[0m\u001b[37m\u001b[0m \u001b[1m5s\u001b[0m 178ms/step - accuracy: 0.8549 - loss: 0.4033 - val_accuracy: 0.7290 - val_loss: 0.6575\n",
      "\u001b[1m30/30\u001b[0m \u001b[32m━━━━━━━━━━━━━━━━━━━━\u001b[0m\u001b[37m\u001b[0m \u001b[1m1s\u001b[0m 45ms/step\n"
     ]
    },
    {
     "name": "stderr",
     "output_type": "stream",
     "text": [
      "WARNING:absl:You are saving your model as an HDF5 file via `model.save()` or `keras.saving.save_model(model)`. This file format is considered legacy. We recommend using instead the native Keras format, e.g. `model.save('my_model.keras')` or `keras.saving.save_model(model, 'my_model.keras')`. \n"
     ]
    },
    {
     "name": "stdout",
     "output_type": "stream",
     "text": [
      "Model and predictions saved successfully.\n"
     ]
    }
   ],
   "source": [
    "import pyreadr\n",
    "import pandas as pd\n",
    "import numpy as np\n",
    "import tensorflow as tf\n",
    "from tensorflow.keras.preprocessing.text import Tokenizer\n",
    "from tensorflow.keras.preprocessing.sequence import pad_sequences\n",
    "from tensorflow.keras.models import Sequential\n",
    "from tensorflow.keras.layers import Embedding, LSTM, Dense\n",
    "from tensorflow.keras.regularizers import l2\n",
    "\n",
    "# Load the .RData files\n",
    "result_clean = pyreadr.read_r(\"/Users/wentaozhang/Documents/GitHub/module-2-group4/data/claims-clean-example.RData\")\n",
    "result_test = pyreadr.read_r(\"/Users/wentaozhang/Documents/GitHub/module-2-group4/data/claims-test.RData\")\n",
    "\n",
    "# Extract objects as pandas DataFrames\n",
    "claims_clean = result_clean[\"claims_clean\"]\n",
    "claims_test = result_test[\"claims_test\"]\n",
    "\n",
    "# Preprocess text data\n",
    "def preprocess_text(df, text_column):\n",
    "    return df[text_column].str.replace(r\"<.*?>\", \" \", regex=True) \\\n",
    "                          .str.replace(r\"\\s+\", \" \", regex=True) \\\n",
    "                          .str.strip()\n",
    "\n",
    "claims_clean[\"text_clean\"] = preprocess_text(claims_clean, \"text_tmp\")\n",
    "claims_test[\"text_clean\"] = preprocess_text(claims_test, \"text_tmp\")\n",
    "\n",
    "# Binary labels\n",
    "claims_clean[\"bclass\"] = claims_clean[\"bclass\"].astype(\"category\").cat.codes\n",
    "\n",
    "# Tokenize text data\n",
    "tokenizer = Tokenizer(num_words=10000)  # Use top 10,000 words\n",
    "tokenizer.fit_on_texts(claims_clean[\"text_clean\"])\n",
    "\n",
    "# Convert text to sequences\n",
    "train_sequences = tokenizer.texts_to_sequences(claims_clean[\"text_clean\"])\n",
    "test_sequences = tokenizer.texts_to_sequences(claims_test[\"text_clean\"])\n",
    "\n",
    "# Pad sequences\n",
    "maxlen = 200\n",
    "train_padded = pad_sequences(train_sequences, maxlen=maxlen, padding=\"post\")\n",
    "test_padded = pad_sequences(test_sequences, maxlen=maxlen, padding=\"post\")\n",
    "\n",
    "# Convert labels to categorical\n",
    "train_labels = tf.keras.utils.to_categorical(claims_clean[\"bclass\"], num_classes=2)\n",
    "\n",
    "# Define the binary classification model\n",
    "model = Sequential([\n",
    "    Embedding(input_dim=10000, output_dim=100, input_length=maxlen),\n",
    "    LSTM(units=128, dropout=0.2, recurrent_dropout=0.2, kernel_regularizer=l2(0.01)),\n",
    "    Dense(units=64, activation=\"relu\", kernel_regularizer=l2(0.01)),\n",
    "    Dense(units=2, activation=\"softmax\")  # Binary classification\n",
    "])\n",
    "\n",
    "# Compile the model\n",
    "model.compile(optimizer=\"adam\", loss=\"binary_crossentropy\", metrics=[\"accuracy\"])\n",
    "\n",
    "# Train the model\n",
    "history = model.fit(\n",
    "    train_padded,\n",
    "    train_labels,\n",
    "    validation_split=0.2,\n",
    "    epochs=10,\n",
    "    batch_size=64,\n",
    "    callbacks=[tf.keras.callbacks.EarlyStopping(monitor=\"val_loss\", patience=3)]\n",
    ")\n",
    "\n",
    "# Predict on the test set\n",
    "predictions = model.predict(test_padded)\n",
    "\n",
    "# Convert probabilities to binary predictions\n",
    "predicted_classes = np.argmax(predictions, axis=1)\n",
    "\n",
    "# Save predictions to a CSV file\n",
    "pred_df = pd.DataFrame({\n",
    "    \".id\": claims_test[\".id\"],\n",
    "    \"bclass.pred\": predicted_classes\n",
    "})\n",
    "pred_df.to_csv(\"/Users/wentaozhang/Documents/GitHub/module-2-group4/results/predictions_binary.csv\", index=False)\n",
    "\n",
    "# Save the trained model\n",
    "model.save(\"/Users/wentaozhang/Documents/GitHub/module-2-group4/results/model_binary.h5\")\n",
    "\n",
    "print(\"Model and predictions saved successfully.\")\n"
   ]
  },
  {
   "cell_type": "markdown",
   "metadata": {},
   "source": [
    "- **Accuracy Improvement**:\n",
    "  - Training accuracy started at approximately 52.16% and improved to 85.49% by the 10th epoch.\n",
    "  - This indicates the model is learning and capturing patterns effectively from the training data.\n",
    "\n",
    "- **Loss Reduction**:\n",
    "  - The training loss began at 2.8531 and decreased significantly to 0.4033 by the final epoch.\n",
    "  - A decrease in loss suggests the model is minimizing the error in its predictions over the training data.\n",
    "\n",
    "- **Validation Accuracy and Loss**:\n",
    "  - Validation accuracy started at 67.76% and ended at 72.90%.\n",
    "  - Validation loss decreased consistently, ending at 0.6575, which indicates the model generalizes relatively well on unseen data.\n",
    "  - However, validation accuracy is slightly lower than training accuracy, which might suggest some overfitting.\n"
   ]
  }
 ],
 "metadata": {
  "kernelspec": {
   "display_name": "python310",
   "language": "python",
   "name": "python3"
  },
  "language_info": {
   "codemirror_mode": {
    "name": "ipython",
    "version": 3
   },
   "file_extension": ".py",
   "mimetype": "text/x-python",
   "name": "python",
   "nbconvert_exporter": "python",
   "pygments_lexer": "ipython3",
   "version": "3.10.12"
  }
 },
 "nbformat": 4,
 "nbformat_minor": 2
}
